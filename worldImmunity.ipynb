{
  "nbformat": 4,
  "nbformat_minor": 0,
  "metadata": {
    "colab": {
      "name": "worldImmunity.ipynb",
      "provenance": [],
      "collapsed_sections": [],
      "toc_visible": true
    },
    "kernelspec": {
      "name": "python3",
      "display_name": "Python 3"
    }
  },
  "cells": [
    {
      "cell_type": "markdown",
      "metadata": {
        "id": "jYka344i53oy"
      },
      "source": [
        "# World Immunity\n"
      ]
    },
    {
      "cell_type": "markdown",
      "metadata": {
        "id": "z--6rU0iI29w"
      },
      "source": [
        "## Data Load"
      ]
    },
    {
      "cell_type": "code",
      "metadata": {
        "id": "r5EwCNQqjozQ",
        "colab": {
          "base_uri": "https://localhost:8080/"
        },
        "outputId": "4e97bdfd-9421-4c14-9766-af4299749b40"
      },
      "source": [
        "# Load Libraries\n",
        "import numpy as np\n",
        "import pandas as pd \n",
        "import matplotlib.pyplot as plt\n",
        "import seaborn as sns \n",
        "import warnings\n",
        "import calendar\n",
        "import scipy\n",
        "import statsmodels as sms\n",
        "from statsmodels.graphics.tsaplots import plot_acf, plot_pacf\n",
        "from statsmodels.tsa.stattools import adfuller\n",
        "from statsmodels.tsa.arima_model import ARIMA\n",
        "from sklearn.metrics import mean_squared_error\n",
        "\n",
        "warnings.filterwarnings('ignore')"
      ],
      "execution_count": 1,
      "outputs": [
        {
          "output_type": "stream",
          "text": [
            "/usr/local/lib/python3.7/dist-packages/statsmodels/tools/_testing.py:19: FutureWarning: pandas.util.testing is deprecated. Use the functions in the public API at pandas.testing instead.\n",
            "  import pandas.util.testing as tm\n"
          ],
          "name": "stderr"
        }
      ]
    },
    {
      "cell_type": "code",
      "metadata": {
        "id": "ZfgP-4v4Z16H"
      },
      "source": [
        "# Read Data\n",
        "df = pd.read_csv(\"country_vaccinations.csv\")"
      ],
      "execution_count": 2,
      "outputs": []
    },
    {
      "cell_type": "code",
      "metadata": {
        "colab": {
          "base_uri": "https://localhost:8080/",
          "height": 309
        },
        "id": "gwXBkrgTaYXQ",
        "outputId": "e6963aff-bb96-423f-bf61-d75f124cb589"
      },
      "source": [
        "# Look at the data\n",
        "df.head()"
      ],
      "execution_count": 3,
      "outputs": [
        {
          "output_type": "execute_result",
          "data": {
            "text/html": [
              "<div>\n",
              "<style scoped>\n",
              "    .dataframe tbody tr th:only-of-type {\n",
              "        vertical-align: middle;\n",
              "    }\n",
              "\n",
              "    .dataframe tbody tr th {\n",
              "        vertical-align: top;\n",
              "    }\n",
              "\n",
              "    .dataframe thead th {\n",
              "        text-align: right;\n",
              "    }\n",
              "</style>\n",
              "<table border=\"1\" class=\"dataframe\">\n",
              "  <thead>\n",
              "    <tr style=\"text-align: right;\">\n",
              "      <th></th>\n",
              "      <th>country</th>\n",
              "      <th>iso_code</th>\n",
              "      <th>date</th>\n",
              "      <th>total_vaccinations</th>\n",
              "      <th>people_vaccinated</th>\n",
              "      <th>people_fully_vaccinated</th>\n",
              "      <th>daily_vaccinations_raw</th>\n",
              "      <th>daily_vaccinations</th>\n",
              "      <th>total_vaccinations_per_hundred</th>\n",
              "      <th>people_vaccinated_per_hundred</th>\n",
              "      <th>people_fully_vaccinated_per_hundred</th>\n",
              "      <th>daily_vaccinations_per_million</th>\n",
              "      <th>vaccines</th>\n",
              "      <th>source_name</th>\n",
              "      <th>source_website</th>\n",
              "    </tr>\n",
              "  </thead>\n",
              "  <tbody>\n",
              "    <tr>\n",
              "      <th>0</th>\n",
              "      <td>Albania</td>\n",
              "      <td>ALB</td>\n",
              "      <td>2021-01-10</td>\n",
              "      <td>0.0</td>\n",
              "      <td>0.0</td>\n",
              "      <td>NaN</td>\n",
              "      <td>NaN</td>\n",
              "      <td>NaN</td>\n",
              "      <td>0.00</td>\n",
              "      <td>0.00</td>\n",
              "      <td>NaN</td>\n",
              "      <td>NaN</td>\n",
              "      <td>Pfizer/BioNTech</td>\n",
              "      <td>Ministry of Health</td>\n",
              "      <td>https://shendetesia.gov.al/covid19-ministria-e...</td>\n",
              "    </tr>\n",
              "    <tr>\n",
              "      <th>1</th>\n",
              "      <td>Albania</td>\n",
              "      <td>ALB</td>\n",
              "      <td>2021-01-11</td>\n",
              "      <td>NaN</td>\n",
              "      <td>NaN</td>\n",
              "      <td>NaN</td>\n",
              "      <td>NaN</td>\n",
              "      <td>64.0</td>\n",
              "      <td>NaN</td>\n",
              "      <td>NaN</td>\n",
              "      <td>NaN</td>\n",
              "      <td>22.0</td>\n",
              "      <td>Pfizer/BioNTech</td>\n",
              "      <td>Ministry of Health</td>\n",
              "      <td>https://shendetesia.gov.al/covid19-ministria-e...</td>\n",
              "    </tr>\n",
              "    <tr>\n",
              "      <th>2</th>\n",
              "      <td>Albania</td>\n",
              "      <td>ALB</td>\n",
              "      <td>2021-01-12</td>\n",
              "      <td>128.0</td>\n",
              "      <td>128.0</td>\n",
              "      <td>NaN</td>\n",
              "      <td>NaN</td>\n",
              "      <td>64.0</td>\n",
              "      <td>0.00</td>\n",
              "      <td>0.00</td>\n",
              "      <td>NaN</td>\n",
              "      <td>22.0</td>\n",
              "      <td>Pfizer/BioNTech</td>\n",
              "      <td>Ministry of Health</td>\n",
              "      <td>https://shendetesia.gov.al/covid19-ministria-e...</td>\n",
              "    </tr>\n",
              "    <tr>\n",
              "      <th>3</th>\n",
              "      <td>Albania</td>\n",
              "      <td>ALB</td>\n",
              "      <td>2021-01-13</td>\n",
              "      <td>188.0</td>\n",
              "      <td>188.0</td>\n",
              "      <td>NaN</td>\n",
              "      <td>60.0</td>\n",
              "      <td>63.0</td>\n",
              "      <td>0.01</td>\n",
              "      <td>0.01</td>\n",
              "      <td>NaN</td>\n",
              "      <td>22.0</td>\n",
              "      <td>Pfizer/BioNTech</td>\n",
              "      <td>Ministry of Health</td>\n",
              "      <td>https://shendetesia.gov.al/covid19-ministria-e...</td>\n",
              "    </tr>\n",
              "    <tr>\n",
              "      <th>4</th>\n",
              "      <td>Albania</td>\n",
              "      <td>ALB</td>\n",
              "      <td>2021-01-14</td>\n",
              "      <td>266.0</td>\n",
              "      <td>266.0</td>\n",
              "      <td>NaN</td>\n",
              "      <td>78.0</td>\n",
              "      <td>66.0</td>\n",
              "      <td>0.01</td>\n",
              "      <td>0.01</td>\n",
              "      <td>NaN</td>\n",
              "      <td>23.0</td>\n",
              "      <td>Pfizer/BioNTech</td>\n",
              "      <td>Ministry of Health</td>\n",
              "      <td>https://shendetesia.gov.al/covid19-ministria-e...</td>\n",
              "    </tr>\n",
              "  </tbody>\n",
              "</table>\n",
              "</div>"
            ],
            "text/plain": [
              "   country  ...                                     source_website\n",
              "0  Albania  ...  https://shendetesia.gov.al/covid19-ministria-e...\n",
              "1  Albania  ...  https://shendetesia.gov.al/covid19-ministria-e...\n",
              "2  Albania  ...  https://shendetesia.gov.al/covid19-ministria-e...\n",
              "3  Albania  ...  https://shendetesia.gov.al/covid19-ministria-e...\n",
              "4  Albania  ...  https://shendetesia.gov.al/covid19-ministria-e...\n",
              "\n",
              "[5 rows x 15 columns]"
            ]
          },
          "metadata": {
            "tags": []
          },
          "execution_count": 3
        }
      ]
    },
    {
      "cell_type": "code",
      "metadata": {
        "colab": {
          "base_uri": "https://localhost:8080/",
          "height": 822
        },
        "id": "z8xNzYrtaoJw",
        "outputId": "9ae6e9e6-dc71-480c-bb6b-8ba720af3c3e"
      },
      "source": [
        "# Data dimension\n",
        "print(\"Dimension of data\", df.shape)\n",
        "\n",
        "# Null elements\n",
        "print(\"\\nNull values:\\n\", df.isna().sum())\n",
        "\n",
        "# Multi Correlation analysis\n",
        "print(\"\\nCorrelation Plot\")\n",
        "sns.heatmap(df.corr(), annot=True)"
      ],
      "execution_count": 4,
      "outputs": [
        {
          "output_type": "stream",
          "text": [
            "Dimension of data (6325, 15)\n",
            "\n",
            "Null values:\n",
            " country                                   0\n",
            "iso_code                                364\n",
            "date                                      0\n",
            "total_vaccinations                     2266\n",
            "people_vaccinated                      2713\n",
            "people_fully_vaccinated                3869\n",
            "daily_vaccinations_raw                 2898\n",
            "daily_vaccinations                      194\n",
            "total_vaccinations_per_hundred         2266\n",
            "people_vaccinated_per_hundred          2713\n",
            "people_fully_vaccinated_per_hundred    3869\n",
            "daily_vaccinations_per_million          194\n",
            "vaccines                                  0\n",
            "source_name                               0\n",
            "source_website                            0\n",
            "dtype: int64\n",
            "\n",
            "Correlation Plot\n"
          ],
          "name": "stdout"
        },
        {
          "output_type": "execute_result",
          "data": {
            "text/plain": [
              "<matplotlib.axes._subplots.AxesSubplot at 0x7f8c7aedec90>"
            ]
          },
          "metadata": {
            "tags": []
          },
          "execution_count": 4
        },
        {
          "output_type": "display_data",
          "data": {
            "image/png": "[encoded data removed]",
            "text/plain": [
              "<Figure size 432x288 with 2 Axes>"
            ]
          },
          "metadata": {
            "tags": [],
            "needs_background": "light"
          }
        }
      ]
    },
    {
      "cell_type": "markdown",
      "metadata": {
        "id": "4SV40YNr7wif"
      },
      "source": [
        "## Column Analysis\n",
        "1. **iso_code** can be dropped, as it directly correlates with country name.\n",
        "2. **total_vaccinations** null values can be dropped, as without this, analysis cannot proceed. \n",
        "3. total_vaccinations and **people_vaccinated** are highly correlated. Hence total_vaccinations can be dropped (it has more null values than people_vaccinated)\n",
        "4. Similarly with their  **per_hundred** columns.\n",
        "5. **daily_vaccinated** is also highly correlated with people_vaccinated. That can be dropped.\n",
        "6. **vaccines**, **source_name** and **source_website** is unimportant for current analysis objective.\n",
        "7.  **date** needs to be converted to datetime format.\n"
      ]
    },
    {
      "cell_type": "code",
      "metadata": {
        "colab": {
          "base_uri": "https://localhost:8080/",
          "height": 703
        },
        "id": "AvorIJ1bByyt",
        "outputId": "46c165ca-3262-48a0-fd71-ab1136d8b83c"
      },
      "source": [
        "# Choose the necessary columns\n",
        "df_clean = df[['country', 'date', 'people_vaccinated', 'people_fully_vaccinated',\n",
        "       'daily_vaccinations_raw', 'people_vaccinated_per_hundred',\n",
        "       'people_fully_vaccinated_per_hundred', 'daily_vaccinations_per_million']]\n",
        "\n",
        "# Forward fill non-null values (Assumption: The number hasn't changed)       \n",
        "df_clean.fillna(method='ffill', inplace=True)\n",
        "\n",
        "# Replace with 0, the values not yet filled in previous step (Assumption: Starting with 0)\n",
        "df_clean.fillna(value=0, inplace=True)\n",
        "\n",
        "# Date conversion\n",
        "df_clean[\"date\"] = pd.to_datetime(df_clean[\"date\"], format = '%Y-%m-%d')\n",
        "\n",
        "# Verify\n",
        "print(\"Dimension of data\", df_clean.shape)\n",
        "print(\"\\nNull values:\\n\", df_clean.isna().any())\n",
        "print(\"\\nCorrelation Plot\")\n",
        "sns.heatmap(df_clean.corr(), annot=True)"
      ],
      "execution_count": 5,
      "outputs": [
        {
          "output_type": "stream",
          "text": [
            "Dimension of data (6325, 8)\n",
            "\n",
            "Null values:\n",
            " country                                False\n",
            "date                                   False\n",
            "people_vaccinated                      False\n",
            "people_fully_vaccinated                False\n",
            "daily_vaccinations_raw                 False\n",
            "people_vaccinated_per_hundred          False\n",
            "people_fully_vaccinated_per_hundred    False\n",
            "daily_vaccinations_per_million         False\n",
            "dtype: bool\n",
            "\n",
            "Correlation Plot\n"
          ],
          "name": "stdout"
        },
        {
          "output_type": "execute_result",
          "data": {
            "text/plain": [
              "<matplotlib.axes._subplots.AxesSubplot at 0x7f8c7ae58c90>"
            ]
          },
          "metadata": {
            "tags": []
          },
          "execution_count": 5
        },
        {
          "output_type": "display_data",
          "data": {
            "image/png": "[encoded data removed]",
            "text/plain": [
              "<Figure size 432x288 with 2 Axes>"
            ]
          },
          "metadata": {
            "tags": [],
            "needs_background": "light"
          }
        }
      ]
    },
    {
      "cell_type": "markdown",
      "metadata": {
        "id": "4gDiNpmNIyyx"
      },
      "source": [
        "## EDA"
      ]
    },
    {
      "cell_type": "code",
      "metadata": {
        "id": "JEPKIi-5cwwG",
        "colab": {
          "base_uri": "https://localhost:8080/",
          "height": 340
        },
        "outputId": "c47d2a7f-75ed-4b2d-d77a-c111e505a445"
      },
      "source": [
        "#  Lets look at current scenario\n",
        "df_latest = df_clean.groupby('country', as_index = True).max()\n",
        "\n",
        "# Most vaccinated countries\n",
        "df_latest_most_vaccinated = df_latest.sort_values(by='people_vaccinated', ascending = False)\n",
        "df_latest_most_vaccinated.head()"
      ],
      "execution_count": 6,
      "outputs": [
        {
          "output_type": "execute_result",
          "data": {
            "text/html": [
              "<div>\n",
              "<style scoped>\n",
              "    .dataframe tbody tr th:only-of-type {\n",
              "        vertical-align: middle;\n",
              "    }\n",
              "\n",
              "    .dataframe tbody tr th {\n",
              "        vertical-align: top;\n",
              "    }\n",
              "\n",
              "    .dataframe thead th {\n",
              "        text-align: right;\n",
              "    }\n",
              "</style>\n",
              "<table border=\"1\" class=\"dataframe\">\n",
              "  <thead>\n",
              "    <tr style=\"text-align: right;\">\n",
              "      <th></th>\n",
              "      <th>date</th>\n",
              "      <th>people_vaccinated</th>\n",
              "      <th>people_fully_vaccinated</th>\n",
              "      <th>daily_vaccinations_raw</th>\n",
              "      <th>people_vaccinated_per_hundred</th>\n",
              "      <th>people_fully_vaccinated_per_hundred</th>\n",
              "      <th>daily_vaccinations_per_million</th>\n",
              "    </tr>\n",
              "    <tr>\n",
              "      <th>country</th>\n",
              "      <th></th>\n",
              "      <th></th>\n",
              "      <th></th>\n",
              "      <th></th>\n",
              "      <th></th>\n",
              "      <th></th>\n",
              "      <th></th>\n",
              "    </tr>\n",
              "  </thead>\n",
              "  <tbody>\n",
              "    <tr>\n",
              "      <th>United States</th>\n",
              "      <td>2021-03-14</td>\n",
              "      <td>69784210.0</td>\n",
              "      <td>37459269.0</td>\n",
              "      <td>4575496.0</td>\n",
              "      <td>20.87</td>\n",
              "      <td>11.20</td>\n",
              "      <td>7600.0</td>\n",
              "    </tr>\n",
              "    <tr>\n",
              "      <th>India</th>\n",
              "      <td>2021-03-14</td>\n",
              "      <td>24452385.0</td>\n",
              "      <td>5455653.0</td>\n",
              "      <td>2053537.0</td>\n",
              "      <td>1.77</td>\n",
              "      <td>3.76</td>\n",
              "      <td>2977.0</td>\n",
              "    </tr>\n",
              "    <tr>\n",
              "      <th>Indonesia</th>\n",
              "      <td>2021-03-14</td>\n",
              "      <td>24452385.0</td>\n",
              "      <td>5455653.0</td>\n",
              "      <td>363003.0</td>\n",
              "      <td>1.77</td>\n",
              "      <td>0.53</td>\n",
              "      <td>923.0</td>\n",
              "    </tr>\n",
              "    <tr>\n",
              "      <th>United Kingdom</th>\n",
              "      <td>2021-03-13</td>\n",
              "      <td>24196211.0</td>\n",
              "      <td>2187849.0</td>\n",
              "      <td>609010.0</td>\n",
              "      <td>35.64</td>\n",
              "      <td>22.12</td>\n",
              "      <td>6558.0</td>\n",
              "    </tr>\n",
              "    <tr>\n",
              "      <th>Estonia</th>\n",
              "      <td>2021-03-14</td>\n",
              "      <td>20568821.0</td>\n",
              "      <td>1115066.0</td>\n",
              "      <td>496272.0</td>\n",
              "      <td>36.54</td>\n",
              "      <td>3.97</td>\n",
              "      <td>5128.0</td>\n",
              "    </tr>\n",
              "  </tbody>\n",
              "</table>\n",
              "</div>"
            ],
            "text/plain": [
              "                     date  ...  daily_vaccinations_per_million\n",
              "country                    ...                                \n",
              "United States  2021-03-14  ...                          7600.0\n",
              "India          2021-03-14  ...                          2977.0\n",
              "Indonesia      2021-03-14  ...                           923.0\n",
              "United Kingdom 2021-03-13  ...                          6558.0\n",
              "Estonia        2021-03-14  ...                          5128.0\n",
              "\n",
              "[5 rows x 7 columns]"
            ]
          },
          "metadata": {
            "tags": []
          },
          "execution_count": 6
        }
      ]
    },
    {
      "cell_type": "code",
      "metadata": {
        "colab": {
          "base_uri": "https://localhost:8080/",
          "height": 395
        },
        "id": "pkrIlqIWWO53",
        "outputId": "744d925b-833f-4e87-a193-9d63db2f99cb"
      },
      "source": [
        "# Graphical representation of above \n",
        "ax = sns.barplot(x = df_latest['people_vaccinated'].sort_values(ascending = False).head(15).index,\n",
        "                 y = df_latest['people_vaccinated'].sort_values(ascending = False).head(15))\n",
        "ax.set_xlabel('Country')\n",
        "ax.set_ylabel('people_vaccinated')\n",
        "plt.xticks(rotation = 90)"
      ],
      "execution_count": 7,
      "outputs": [
        {
          "output_type": "execute_result",
          "data": {
            "text/plain": [
              "(array([ 0,  1,  2,  3,  4,  5,  6,  7,  8,  9, 10, 11, 12, 13, 14]),\n",
              " <a list of 15 Text major ticklabel objects>)"
            ]
          },
          "metadata": {
            "tags": []
          },
          "execution_count": 7
        },
        {
          "output_type": "display_data",
          "data": {
            "image/png": "[encoded data removed]",
            "text/plain": [
              "<Figure size 432x288 with 1 Axes>"
            ]
          },
          "metadata": {
            "tags": [],
            "needs_background": "light"
          }
        }
      ]
    },
    {
      "cell_type": "code",
      "metadata": {
        "id": "a3c8HrxUJHtX",
        "colab": {
          "base_uri": "https://localhost:8080/",
          "height": 376
        },
        "outputId": "869ad36d-9991-4884-fb10-a659dcd6b99b"
      },
      "source": [
        "plt.figure(figsize = (12,4))\n",
        "\n",
        "plt.subplot(121)\n",
        "# Graphical representation of most % vaccinated \n",
        "ax = sns.barplot(x = df_latest['people_vaccinated_per_hundred'].sort_values(ascending = False).head(15).index,\n",
        "                 y = df_latest['people_vaccinated_per_hundred'].sort_values(ascending = False).head(15))\n",
        "ax.set_xlabel('Country')\n",
        "ax.set_ylabel('% people vaccinated')\n",
        "plt.xticks(rotation = 90)\n",
        "\n",
        "plt.subplot(122)\n",
        "# Graphical representation of most % fully vaccinated \n",
        "ax = sns.barplot(x = df_latest['people_fully_vaccinated_per_hundred'].sort_values(ascending = False).head(15).index,\n",
        "                 y = df_latest['people_fully_vaccinated_per_hundred'].sort_values(ascending = False).head(15))\n",
        "ax.set_xlabel('Country')\n",
        "ax.set_ylabel('% people fully vaccinated')\n",
        "plt.xticks(rotation = 90)\n",
        "\n",
        "plt.show()"
      ],
      "execution_count": 8,
      "outputs": [
        {
          "output_type": "display_data",
          "data": {
            "image/png": "[encoded data removed]",
            "text/plain": [
              "<Figure size 864x288 with 2 Axes>"
            ]
          },
          "metadata": {
            "tags": [],
            "needs_background": "light"
          }
        }
      ]
    },
    {
      "cell_type": "markdown",
      "metadata": {
        "id": "58aIZm1tXkEC"
      },
      "source": [
        "## India Data"
      ]
    },
    {
      "cell_type": "code",
      "metadata": {
        "colab": {
          "base_uri": "https://localhost:8080/",
          "height": 221
        },
        "id": "wAh1MQUwXmPn",
        "outputId": "88b0c345-f933-4bff-ef56-b027b50750b8"
      },
      "source": [
        "india_data = df_clean[df_clean['country']=='India'][[\"date\", \"people_vaccinated\", \"people_vaccinated_per_hundred\"]].reset_index(drop=True)\n",
        "print(india_data.shape)\n",
        "india_data.tail()"
      ],
      "execution_count": 9,
      "outputs": [
        {
          "output_type": "stream",
          "text": [
            "(59, 3)\n"
          ],
          "name": "stdout"
        },
        {
          "output_type": "execute_result",
          "data": {
            "text/html": [
              "<div>\n",
              "<style scoped>\n",
              "    .dataframe tbody tr th:only-of-type {\n",
              "        vertical-align: middle;\n",
              "    }\n",
              "\n",
              "    .dataframe tbody tr th {\n",
              "        vertical-align: top;\n",
              "    }\n",
              "\n",
              "    .dataframe thead th {\n",
              "        text-align: right;\n",
              "    }\n",
              "</style>\n",
              "<table border=\"1\" class=\"dataframe\">\n",
              "  <thead>\n",
              "    <tr style=\"text-align: right;\">\n",
              "      <th></th>\n",
              "      <th>date</th>\n",
              "      <th>people_vaccinated</th>\n",
              "      <th>people_vaccinated_per_hundred</th>\n",
              "    </tr>\n",
              "  </thead>\n",
              "  <tbody>\n",
              "    <tr>\n",
              "      <th>54</th>\n",
              "      <td>2021-03-10</td>\n",
              "      <td>21034481.0</td>\n",
              "      <td>1.52</td>\n",
              "    </tr>\n",
              "    <tr>\n",
              "      <th>55</th>\n",
              "      <td>2021-03-11</td>\n",
              "      <td>21435841.0</td>\n",
              "      <td>1.55</td>\n",
              "    </tr>\n",
              "    <tr>\n",
              "      <th>56</th>\n",
              "      <td>2021-03-12</td>\n",
              "      <td>23075504.0</td>\n",
              "      <td>1.67</td>\n",
              "    </tr>\n",
              "    <tr>\n",
              "      <th>57</th>\n",
              "      <td>2021-03-13</td>\n",
              "      <td>24307635.0</td>\n",
              "      <td>1.76</td>\n",
              "    </tr>\n",
              "    <tr>\n",
              "      <th>58</th>\n",
              "      <td>2021-03-14</td>\n",
              "      <td>24452385.0</td>\n",
              "      <td>1.77</td>\n",
              "    </tr>\n",
              "  </tbody>\n",
              "</table>\n",
              "</div>"
            ],
            "text/plain": [
              "         date  people_vaccinated  people_vaccinated_per_hundred\n",
              "54 2021-03-10         21034481.0                           1.52\n",
              "55 2021-03-11         21435841.0                           1.55\n",
              "56 2021-03-12         23075504.0                           1.67\n",
              "57 2021-03-13         24307635.0                           1.76\n",
              "58 2021-03-14         24452385.0                           1.77"
            ]
          },
          "metadata": {
            "tags": []
          },
          "execution_count": 9
        }
      ]
    },
    {
      "cell_type": "code",
      "metadata": {
        "colab": {
          "base_uri": "https://localhost:8080/"
        },
        "id": "RR8rJegqZQEN",
        "outputId": "0dc66615-14ba-41ae-fa41-cc57f618a552"
      },
      "source": [
        "india_data[\"people_vaccinated_per_hundred\"].describe()"
      ],
      "execution_count": 10,
      "outputs": [
        {
          "output_type": "execute_result",
          "data": {
            "text/plain": [
              "count    59.000000\n",
              "mean      0.632034\n",
              "std       0.482032\n",
              "min       0.000000\n",
              "25%       0.260000\n",
              "50%       0.580000\n",
              "75%       0.855000\n",
              "max       1.770000\n",
              "Name: people_vaccinated_per_hundred, dtype: float64"
            ]
          },
          "metadata": {
            "tags": []
          },
          "execution_count": 10
        }
      ]
    },
    {
      "cell_type": "code",
      "metadata": {
        "colab": {
          "base_uri": "https://localhost:8080/"
        },
        "id": "hdbLMVkWZl4M",
        "outputId": "1b1ce034-f79c-4f73-978c-69e6f53c9d94"
      },
      "source": [
        "# verify people vaccinated per hundred\n",
        "people_vaccinated_per_hundred_= india_data['people_vaccinated']/13800043.85\n",
        "people_vaccinated_per_hundred_.describe()\n",
        "\n",
        "# Data is clean and valid"
      ],
      "execution_count": 11,
      "outputs": [
        {
          "output_type": "execute_result",
          "data": {
            "text/plain": [
              "count    59.000000\n",
              "mean      0.632350\n",
              "std       0.482472\n",
              "min       0.000000\n",
              "25%       0.262476\n",
              "50%       0.582954\n",
              "75%       0.856292\n",
              "max       1.771906\n",
              "Name: people_vaccinated, dtype: float64"
            ]
          },
          "metadata": {
            "tags": []
          },
          "execution_count": 11
        }
      ]
    },
    {
      "cell_type": "code",
      "metadata": {
        "colab": {
          "base_uri": "https://localhost:8080/",
          "height": 382
        },
        "id": "u0HMYF9QaXjO",
        "outputId": "61d116b8-cb41-4d90-fb4b-99c4219b7f4a"
      },
      "source": [
        "# Plot people vaccinated against time\n",
        "plt.figure(figsize = (10, 5))\n",
        "ax = sns.lineplot(x = india_data['date'], y = india_data['people_vaccinated'], marker='o')\n",
        "ax.set_xlabel('Date')\n",
        "plt.yticks(ticks = [1000000, 5000000, 10000000, 15000000, 20000000, 25000000], labels = [1, 5, 10, 15, 20, 25])\n",
        "ax.set_ylabel('people vaccinated (10 lakhs/1 million)')\n",
        "plt.xticks(rotation = 90)\n",
        "plt.show()"
      ],
      "execution_count": 12,
      "outputs": [
        {
          "output_type": "display_data",
          "data": {
            "image/png": "[encoded data removed]",
            "text/plain": [
              "<Figure size 720x360 with 1 Axes>"
            ]
          },
          "metadata": {
            "tags": [],
            "needs_background": "light"
          }
        }
      ]
    },
    {
      "cell_type": "code",
      "metadata": {
        "colab": {
          "base_uri": "https://localhost:8080/",
          "height": 382
        },
        "id": "VbcK1SfBboE_",
        "outputId": "641e6da8-ea04-42f7-a48b-b968dc8b88f3"
      },
      "source": [
        "# Plot people vaccinated against time\n",
        "plt.figure(figsize = (10, 5))\n",
        "ax = sns.lineplot(x = india_data['date'], y = india_data['people_vaccinated_per_hundred'], marker='o')\n",
        "ax.set_xlabel('Date')\n",
        "ax.set_ylabel('percentage of people vaccinated')\n",
        "plt.xticks(rotation = 90)\n",
        "plt.show()"
      ],
      "execution_count": 13,
      "outputs": [
        {
          "output_type": "display_data",
          "data": {
            "image/png": "[encoded data removed]",
            "text/plain": [
              "<Figure size 720x360 with 1 Axes>"
            ]
          },
          "metadata": {
            "tags": [],
            "needs_background": "light"
          }
        }
      ]
    },
    {
      "cell_type": "markdown",
      "metadata": {
        "id": "FxXInIKCb8TF"
      },
      "source": [
        "It would be difficult to predict when the country would reach immunity. Even for herd immunity (lower limit of 50%, even), the data collected until now is insufficient. Especialy with time series, it is considered wrong to predict into such futures. We shall create a model now, and run it at intervals in the future to get a better idea and train it for higher accuracy."
      ]
    },
    {
      "cell_type": "markdown",
      "metadata": {
        "id": "en0EUD7ubC9X"
      },
      "source": [
        "## Time Series Analysis"
      ]
    },
    {
      "cell_type": "markdown",
      "metadata": {
        "id": "B1_enZiQbTyv"
      },
      "source": [
        "**Stationarity**\n",
        "\n",
        "ACF and PACF plots drawn to check auto correlation and stationarity"
      ]
    },
    {
      "cell_type": "code",
      "metadata": {
        "colab": {
          "base_uri": "https://localhost:8080/",
          "height": 281
        },
        "id": "RKWv3kycbTPA",
        "outputId": "7d017b39-edd5-4e25-a94e-d9cac33a2f47"
      },
      "source": [
        "# Test for stationarity\n",
        "plt.figure(figsize = (12,4))\n",
        "plt.subplot(121)\n",
        "plot_acf(india_data['people_vaccinated_per_hundred'], lags = 40, ax = plt.gca())\n",
        "plt.subplot(122)\n",
        "plot_pacf(india_data['people_vaccinated_per_hundred'], lags = 40, ax = plt.gca())\n",
        "plt.show()"
      ],
      "execution_count": 14,
      "outputs": [
        {
          "output_type": "display_data",
          "data": {
            "image/png": "[encoded data removed]",
            "text/plain": [
              "<Figure size 864x288 with 2 Axes>"
            ]
          },
          "metadata": {
            "tags": [],
            "needs_background": "light"
          }
        }
      ]
    },
    {
      "cell_type": "markdown",
      "metadata": {
        "id": "LigDaCLrcy7W"
      },
      "source": [
        "Data looks non-stationary. We shall perform Dicky-Fuler test to verify."
      ]
    },
    {
      "cell_type": "code",
      "metadata": {
        "colab": {
          "base_uri": "https://localhost:8080/"
        },
        "id": "s39LMemfbCop",
        "outputId": "ed3f08f5-eb5e-4b7a-d715-bd789be74cff"
      },
      "source": [
        "adfuller(india_data['people_vaccinated_per_hundred'])"
      ],
      "execution_count": 15,
      "outputs": [
        {
          "output_type": "execute_result",
          "data": {
            "text/plain": [
              "(1.7006001016935044,\n",
              " 0.9981300799468383,\n",
              " 9,\n",
              " 49,\n",
              " {'1%': -3.5714715250448363,\n",
              "  '10%': -2.5993358475635153,\n",
              "  '5%': -2.922629480573571},\n",
              " -219.6676968475237)"
            ]
          },
          "metadata": {
            "tags": []
          },
          "execution_count": 15
        }
      ]
    },
    {
      "cell_type": "markdown",
      "metadata": {
        "id": "P7RVuvvrc8uo"
      },
      "source": [
        "p-value is 0.99. Data is non-stationary.\n",
        "\n",
        "Hence we shall consider first difference "
      ]
    },
    {
      "cell_type": "code",
      "metadata": {
        "id": "DCZ3d362c2gf"
      },
      "source": [
        "india_data['diff1'] = india_data['people_vaccinated_per_hundred'].diff(1)\n",
        "india_data['diff1'] = india_data['diff1'].fillna(india_data['diff1'].mean())"
      ],
      "execution_count": 16,
      "outputs": []
    },
    {
      "cell_type": "code",
      "metadata": {
        "colab": {
          "base_uri": "https://localhost:8080/"
        },
        "id": "8PCLn5p1di09",
        "outputId": "0ac0c230-53bc-4204-ad66-8714ae70551a"
      },
      "source": [
        "adfuller(india_data.diff1)"
      ],
      "execution_count": 17,
      "outputs": [
        {
          "output_type": "execute_result",
          "data": {
            "text/plain": [
              "(-0.9474234672084615,\n",
              " 0.7719544959100899,\n",
              " 8,\n",
              " 50,\n",
              " {'1%': -3.568485864, '10%': -2.5986616, '5%': -2.92135992},\n",
              " -218.59326002917697)"
            ]
          },
          "metadata": {
            "tags": []
          },
          "execution_count": 17
        }
      ]
    },
    {
      "cell_type": "markdown",
      "metadata": {
        "id": "kmD_0JqedKRS"
      },
      "source": [
        "Data is still non stationary. We shall consider second difference."
      ]
    },
    {
      "cell_type": "code",
      "metadata": {
        "id": "xu1G8hyPdPX8"
      },
      "source": [
        "india_data['diff2'] = india_data['diff1'].diff()\n",
        "india_data['diff2'] = india_data['diff2'].fillna(india_data['diff2'].mean())"
      ],
      "execution_count": 18,
      "outputs": []
    },
    {
      "cell_type": "code",
      "metadata": {
        "colab": {
          "base_uri": "https://localhost:8080/"
        },
        "id": "vSNzdMA7dmZD",
        "outputId": "8ab9b4cc-eeb2-4196-8d21-aeff8ce43518"
      },
      "source": [
        "adfuller(india_data.diff2)"
      ],
      "execution_count": 19,
      "outputs": [
        {
          "output_type": "execute_result",
          "data": {
            "text/plain": [
              "(-2.3124585615524134,\n",
              " 0.16798131548697948,\n",
              " 7,\n",
              " 51,\n",
              " {'1%': -3.5656240522121956,\n",
              "  '10%': -2.598014675124952,\n",
              "  '5%': -2.920142229157715},\n",
              " -219.31859285160004)"
            ]
          },
          "metadata": {
            "tags": []
          },
          "execution_count": 19
        }
      ]
    },
    {
      "cell_type": "markdown",
      "metadata": {
        "id": "jhSUVJUTd3yZ"
      },
      "source": [
        "Data is still non stationary. We shall consider third difference."
      ]
    },
    {
      "cell_type": "code",
      "metadata": {
        "id": "sbC0qVWYdt6B"
      },
      "source": [
        "india_data['diff3'] = india_data['diff2'].diff()\n",
        "india_data['diff3'] = india_data['diff3'].fillna(india_data['diff3'].mean())"
      ],
      "execution_count": 20,
      "outputs": []
    },
    {
      "cell_type": "code",
      "metadata": {
        "colab": {
          "base_uri": "https://localhost:8080/"
        },
        "id": "n4pZQEOOdzlA",
        "outputId": "866b7f5c-6f8f-430b-88e3-fb589c3984f2"
      },
      "source": [
        "adfuller(india_data.diff3)"
      ],
      "execution_count": 21,
      "outputs": [
        {
          "output_type": "execute_result",
          "data": {
            "text/plain": [
              "(-7.4751616332494,\n",
              " 4.935743034214185e-11,\n",
              " 6,\n",
              " 52,\n",
              " {'1%': -3.562878534649522,\n",
              "  '10%': -2.597393446745562,\n",
              "  '5%': -2.918973284023669},\n",
              " -215.7307316255642)"
            ]
          },
          "metadata": {
            "tags": []
          },
          "execution_count": 21
        }
      ]
    },
    {
      "cell_type": "markdown",
      "metadata": {
        "id": "1mZEl7Sjd7j2"
      },
      "source": [
        "Data is now stationary. But after 3rd differencing, data isnt usually reliable. We shall plot ACF and PACF values and try running the model."
      ]
    },
    {
      "cell_type": "code",
      "metadata": {
        "colab": {
          "base_uri": "https://localhost:8080/",
          "height": 281
        },
        "id": "hx1Ji7lXd_jo",
        "outputId": "77c4c0ec-2e3e-4b51-eb14-789ad1b74ee8"
      },
      "source": [
        "# Test for stationarity\n",
        "plt.figure(figsize = (12,4))\n",
        "plt.subplot(121)\n",
        "plot_acf(india_data['diff3'], lags = 40, ax = plt.gca())\n",
        "plt.subplot(122)\n",
        "plot_pacf(india_data['diff3'], lags = 40, ax = plt.gca())\n",
        "plt.show()"
      ],
      "execution_count": 22,
      "outputs": [
        {
          "output_type": "display_data",
          "data": {
            "image/png": "[encoded data removed]",
            "text/plain": [
              "<Figure size 864x288 with 2 Axes>"
            ]
          },
          "metadata": {
            "tags": [],
            "needs_background": "light"
          }
        }
      ]
    },
    {
      "cell_type": "markdown",
      "metadata": {
        "id": "kBHV08CieWl0"
      },
      "source": [
        "As seen from the graphs, the AR value (p) as well as MA value (q) is 1. "
      ]
    },
    {
      "cell_type": "markdown",
      "metadata": {
        "id": "yNRuFDkHeZo4"
      },
      "source": [
        "## Forecast Model"
      ]
    },
    {
      "cell_type": "code",
      "metadata": {
        "colab": {
          "base_uri": "https://localhost:8080/",
          "height": 391
        },
        "id": "0QSGv2MTec9n",
        "outputId": "a83461ea-69e2-412f-ca2f-91fdb9b3f083"
      },
      "source": [
        "train = india_data['people_vaccinated_per_hundred'][:50]\n",
        "test = india_data['people_vaccinated_per_hundred'][50:]\n",
        "model = ARIMA(train, order = (1,3,1))\n",
        "model = model.fit()\n",
        "pred = model.predict(50, 60, typ = 'levels')\n",
        "print(pred)\n",
        "plt.figure(figsize=(12,5), dpi=100)\n",
        "ax = sns.lineplot(x=india_data['date'], y = pred, label='forecast')\n",
        "sns.lineplot(x=india_data['date'], y = india_data['people_vaccinated_per_hundred'], label='actual', ax=ax)\n",
        "plt.title('Forecast vs Actuals')\n",
        "plt.legend(loc='upper left', fontsize=8)\n",
        "plt.show()"
      ],
      "execution_count": 23,
      "outputs": [
        {
          "output_type": "error",
          "ename": "ValueError",
          "evalue": "ignored",
          "traceback": [
            "\u001b[0;31m---------------------------------------------------------------------------\u001b[0m",
            "\u001b[0;31mValueError\u001b[0m                                Traceback (most recent call last)",
            "\u001b[0;32m<ipython-input-23-a07bf0036fd1>\u001b[0m in \u001b[0;36m<module>\u001b[0;34m()\u001b[0m\n\u001b[1;32m      1\u001b[0m \u001b[0mtrain\u001b[0m \u001b[0;34m=\u001b[0m \u001b[0mindia_data\u001b[0m\u001b[0;34m[\u001b[0m\u001b[0;34m'people_vaccinated_per_hundred'\u001b[0m\u001b[0;34m]\u001b[0m\u001b[0;34m[\u001b[0m\u001b[0;34m:\u001b[0m\u001b[0;36m50\u001b[0m\u001b[0;34m]\u001b[0m\u001b[0;34m\u001b[0m\u001b[0;34m\u001b[0m\u001b[0m\n\u001b[1;32m      2\u001b[0m \u001b[0mtest\u001b[0m \u001b[0;34m=\u001b[0m \u001b[0mindia_data\u001b[0m\u001b[0;34m[\u001b[0m\u001b[0;34m'people_vaccinated_per_hundred'\u001b[0m\u001b[0;34m]\u001b[0m\u001b[0;34m[\u001b[0m\u001b[0;36m50\u001b[0m\u001b[0;34m:\u001b[0m\u001b[0;34m]\u001b[0m\u001b[0;34m\u001b[0m\u001b[0;34m\u001b[0m\u001b[0m\n\u001b[0;32m----> 3\u001b[0;31m \u001b[0mmodel\u001b[0m \u001b[0;34m=\u001b[0m \u001b[0mARIMA\u001b[0m\u001b[0;34m(\u001b[0m\u001b[0mtrain\u001b[0m\u001b[0;34m,\u001b[0m \u001b[0morder\u001b[0m \u001b[0;34m=\u001b[0m \u001b[0;34m(\u001b[0m\u001b[0;36m1\u001b[0m\u001b[0;34m,\u001b[0m\u001b[0;36m3\u001b[0m\u001b[0;34m,\u001b[0m\u001b[0;36m1\u001b[0m\u001b[0;34m)\u001b[0m\u001b[0;34m)\u001b[0m\u001b[0;34m\u001b[0m\u001b[0;34m\u001b[0m\u001b[0m\n\u001b[0m\u001b[1;32m      4\u001b[0m \u001b[0mmodel\u001b[0m \u001b[0;34m=\u001b[0m \u001b[0mmodel\u001b[0m\u001b[0;34m.\u001b[0m\u001b[0mfit\u001b[0m\u001b[0;34m(\u001b[0m\u001b[0;34m)\u001b[0m\u001b[0;34m\u001b[0m\u001b[0;34m\u001b[0m\u001b[0m\n\u001b[1;32m      5\u001b[0m \u001b[0mpred\u001b[0m \u001b[0;34m=\u001b[0m \u001b[0mmodel\u001b[0m\u001b[0;34m.\u001b[0m\u001b[0mpredict\u001b[0m\u001b[0;34m(\u001b[0m\u001b[0;36m50\u001b[0m\u001b[0;34m,\u001b[0m \u001b[0;36m60\u001b[0m\u001b[0;34m,\u001b[0m \u001b[0mtyp\u001b[0m \u001b[0;34m=\u001b[0m \u001b[0;34m'levels'\u001b[0m\u001b[0;34m)\u001b[0m\u001b[0;34m\u001b[0m\u001b[0;34m\u001b[0m\u001b[0m\n",
            "\u001b[0;32m/usr/local/lib/python3.7/dist-packages/statsmodels/tsa/arima_model.py\u001b[0m in \u001b[0;36m__new__\u001b[0;34m(cls, endog, order, exog, dates, freq, missing)\u001b[0m\n\u001b[1;32m    986\u001b[0m         \u001b[0;32melse\u001b[0m\u001b[0;34m:\u001b[0m\u001b[0;34m\u001b[0m\u001b[0;34m\u001b[0m\u001b[0m\n\u001b[1;32m    987\u001b[0m             \u001b[0mmod\u001b[0m \u001b[0;34m=\u001b[0m \u001b[0msuper\u001b[0m\u001b[0;34m(\u001b[0m\u001b[0mARIMA\u001b[0m\u001b[0;34m,\u001b[0m \u001b[0mcls\u001b[0m\u001b[0;34m)\u001b[0m\u001b[0;34m.\u001b[0m\u001b[0m__new__\u001b[0m\u001b[0;34m(\u001b[0m\u001b[0mcls\u001b[0m\u001b[0;34m)\u001b[0m\u001b[0;34m\u001b[0m\u001b[0;34m\u001b[0m\u001b[0m\n\u001b[0;32m--> 988\u001b[0;31m             \u001b[0mmod\u001b[0m\u001b[0;34m.\u001b[0m\u001b[0m__init__\u001b[0m\u001b[0;34m(\u001b[0m\u001b[0mendog\u001b[0m\u001b[0;34m,\u001b[0m \u001b[0morder\u001b[0m\u001b[0;34m,\u001b[0m \u001b[0mexog\u001b[0m\u001b[0;34m,\u001b[0m \u001b[0mdates\u001b[0m\u001b[0;34m,\u001b[0m \u001b[0mfreq\u001b[0m\u001b[0;34m,\u001b[0m \u001b[0mmissing\u001b[0m\u001b[0;34m)\u001b[0m\u001b[0;34m\u001b[0m\u001b[0;34m\u001b[0m\u001b[0m\n\u001b[0m\u001b[1;32m    989\u001b[0m             \u001b[0;32mreturn\u001b[0m \u001b[0mmod\u001b[0m\u001b[0;34m\u001b[0m\u001b[0;34m\u001b[0m\u001b[0m\n\u001b[1;32m    990\u001b[0m \u001b[0;34m\u001b[0m\u001b[0m\n",
            "\u001b[0;32m/usr/local/lib/python3.7/dist-packages/statsmodels/tsa/arima_model.py\u001b[0m in \u001b[0;36m__init__\u001b[0;34m(self, endog, order, exog, dates, freq, missing)\u001b[0m\n\u001b[1;32m   1004\u001b[0m             \u001b[0;31m#NOTE: to make more general, need to address the d == 2 stuff\u001b[0m\u001b[0;34m\u001b[0m\u001b[0;34m\u001b[0m\u001b[0;34m\u001b[0m\u001b[0m\n\u001b[1;32m   1005\u001b[0m             \u001b[0;31m# in the predict method\u001b[0m\u001b[0;34m\u001b[0m\u001b[0;34m\u001b[0m\u001b[0;34m\u001b[0m\u001b[0m\n\u001b[0;32m-> 1006\u001b[0;31m             \u001b[0;32mraise\u001b[0m \u001b[0mValueError\u001b[0m\u001b[0;34m(\u001b[0m\u001b[0;34m\"d > 2 is not supported\"\u001b[0m\u001b[0;34m)\u001b[0m\u001b[0;34m\u001b[0m\u001b[0;34m\u001b[0m\u001b[0m\n\u001b[0m\u001b[1;32m   1007\u001b[0m         \u001b[0msuper\u001b[0m\u001b[0;34m(\u001b[0m\u001b[0mARIMA\u001b[0m\u001b[0;34m,\u001b[0m \u001b[0mself\u001b[0m\u001b[0;34m)\u001b[0m\u001b[0;34m.\u001b[0m\u001b[0m__init__\u001b[0m\u001b[0;34m(\u001b[0m\u001b[0mendog\u001b[0m\u001b[0;34m,\u001b[0m \u001b[0;34m(\u001b[0m\u001b[0mp\u001b[0m\u001b[0;34m,\u001b[0m \u001b[0mq\u001b[0m\u001b[0;34m)\u001b[0m\u001b[0;34m,\u001b[0m \u001b[0mexog\u001b[0m\u001b[0;34m,\u001b[0m \u001b[0mdates\u001b[0m\u001b[0;34m,\u001b[0m \u001b[0mfreq\u001b[0m\u001b[0;34m,\u001b[0m \u001b[0mmissing\u001b[0m\u001b[0;34m)\u001b[0m\u001b[0;34m\u001b[0m\u001b[0;34m\u001b[0m\u001b[0m\n\u001b[1;32m   1008\u001b[0m         \u001b[0mself\u001b[0m\u001b[0;34m.\u001b[0m\u001b[0mk_diff\u001b[0m \u001b[0;34m=\u001b[0m \u001b[0md\u001b[0m\u001b[0;34m\u001b[0m\u001b[0;34m\u001b[0m\u001b[0m\n",
            "\u001b[0;31mValueError\u001b[0m: d > 2 is not supported"
          ]
        }
      ]
    },
    {
      "cell_type": "markdown",
      "metadata": {
        "id": "zfraAdamfg4h"
      },
      "source": [
        "The data and the library do not support working with data that is thrice differenced."
      ]
    },
    {
      "cell_type": "markdown",
      "metadata": {
        "id": "nmLkhupZJGxs"
      },
      "source": [
        "## World data analysis"
      ]
    },
    {
      "cell_type": "code",
      "metadata": {
        "id": "jLgSs93gJKaS",
        "colab": {
          "base_uri": "https://localhost:8080/",
          "height": 221
        },
        "outputId": "05c6e0d7-82bc-413c-ba57-c0c10b4cf261"
      },
      "source": [
        "# We're dealing now with World data\n",
        "world_data = df_clean[['people_vaccinated', 'people_fully_vaccinated', 'date']].groupby('date', as_index = False).sum()\n",
        "# daily_data['vac_test'] = daily_data['daily_vaccinations']\n",
        "print(\"dimension:\", world_data.shape)\n",
        "world_data.head()"
      ],
      "execution_count": 24,
      "outputs": [
        {
          "output_type": "stream",
          "text": [
            "dimension: (92, 3)\n"
          ],
          "name": "stdout"
        },
        {
          "output_type": "execute_result",
          "data": {
            "text/html": [
              "<div>\n",
              "<style scoped>\n",
              "    .dataframe tbody tr th:only-of-type {\n",
              "        vertical-align: middle;\n",
              "    }\n",
              "\n",
              "    .dataframe tbody tr th {\n",
              "        vertical-align: top;\n",
              "    }\n",
              "\n",
              "    .dataframe thead th {\n",
              "        text-align: right;\n",
              "    }\n",
              "</style>\n",
              "<table border=\"1\" class=\"dataframe\">\n",
              "  <thead>\n",
              "    <tr style=\"text-align: right;\">\n",
              "      <th></th>\n",
              "      <th>date</th>\n",
              "      <th>people_vaccinated</th>\n",
              "      <th>people_fully_vaccinated</th>\n",
              "    </tr>\n",
              "  </thead>\n",
              "  <tbody>\n",
              "    <tr>\n",
              "      <th>0</th>\n",
              "      <td>2020-12-13</td>\n",
              "      <td>172930.0</td>\n",
              "      <td>42232946.0</td>\n",
              "    </tr>\n",
              "    <tr>\n",
              "      <th>1</th>\n",
              "      <td>2020-12-14</td>\n",
              "      <td>343589.0</td>\n",
              "      <td>42291363.0</td>\n",
              "    </tr>\n",
              "    <tr>\n",
              "      <th>2</th>\n",
              "      <td>2020-12-15</td>\n",
              "      <td>5181265.0</td>\n",
              "      <td>44768523.0</td>\n",
              "    </tr>\n",
              "    <tr>\n",
              "      <th>3</th>\n",
              "      <td>2020-12-16</td>\n",
              "      <td>5181265.0</td>\n",
              "      <td>44768523.0</td>\n",
              "    </tr>\n",
              "    <tr>\n",
              "      <th>4</th>\n",
              "      <td>2020-12-17</td>\n",
              "      <td>5181265.0</td>\n",
              "      <td>44768523.0</td>\n",
              "    </tr>\n",
              "  </tbody>\n",
              "</table>\n",
              "</div>"
            ],
            "text/plain": [
              "        date  people_vaccinated  people_fully_vaccinated\n",
              "0 2020-12-13           172930.0               42232946.0\n",
              "1 2020-12-14           343589.0               42291363.0\n",
              "2 2020-12-15          5181265.0               44768523.0\n",
              "3 2020-12-16          5181265.0               44768523.0\n",
              "4 2020-12-17          5181265.0               44768523.0"
            ]
          },
          "metadata": {
            "tags": []
          },
          "execution_count": 24
        }
      ]
    },
    {
      "cell_type": "code",
      "metadata": {
        "colab": {
          "base_uri": "https://localhost:8080/",
          "height": 204
        },
        "id": "25dQJKvIZER_",
        "outputId": "a96b7acc-2975-4fd8-f4c4-e5cb24f90d2f"
      },
      "source": [
        "# Breaking down date for further EDA\n",
        "world_data['year'] = world_data['date'].dt.year\n",
        "world_data['month'] = world_data['date'].dt.month\n",
        "world_data['month'] = world_data['month'].apply(lambda x: calendar.month_abbr[x])\n",
        "world_data['day'] = world_data['date'].dt.day\n",
        "world_data.head()"
      ],
      "execution_count": 25,
      "outputs": [
        {
          "output_type": "execute_result",
          "data": {
            "text/html": [
              "<div>\n",
              "<style scoped>\n",
              "    .dataframe tbody tr th:only-of-type {\n",
              "        vertical-align: middle;\n",
              "    }\n",
              "\n",
              "    .dataframe tbody tr th {\n",
              "        vertical-align: top;\n",
              "    }\n",
              "\n",
              "    .dataframe thead th {\n",
              "        text-align: right;\n",
              "    }\n",
              "</style>\n",
              "<table border=\"1\" class=\"dataframe\">\n",
              "  <thead>\n",
              "    <tr style=\"text-align: right;\">\n",
              "      <th></th>\n",
              "      <th>date</th>\n",
              "      <th>people_vaccinated</th>\n",
              "      <th>people_fully_vaccinated</th>\n",
              "      <th>year</th>\n",
              "      <th>month</th>\n",
              "      <th>day</th>\n",
              "    </tr>\n",
              "  </thead>\n",
              "  <tbody>\n",
              "    <tr>\n",
              "      <th>0</th>\n",
              "      <td>2020-12-13</td>\n",
              "      <td>172930.0</td>\n",
              "      <td>42232946.0</td>\n",
              "      <td>2020</td>\n",
              "      <td>Dec</td>\n",
              "      <td>13</td>\n",
              "    </tr>\n",
              "    <tr>\n",
              "      <th>1</th>\n",
              "      <td>2020-12-14</td>\n",
              "      <td>343589.0</td>\n",
              "      <td>42291363.0</td>\n",
              "      <td>2020</td>\n",
              "      <td>Dec</td>\n",
              "      <td>14</td>\n",
              "    </tr>\n",
              "    <tr>\n",
              "      <th>2</th>\n",
              "      <td>2020-12-15</td>\n",
              "      <td>5181265.0</td>\n",
              "      <td>44768523.0</td>\n",
              "      <td>2020</td>\n",
              "      <td>Dec</td>\n",
              "      <td>15</td>\n",
              "    </tr>\n",
              "    <tr>\n",
              "      <th>3</th>\n",
              "      <td>2020-12-16</td>\n",
              "      <td>5181265.0</td>\n",
              "      <td>44768523.0</td>\n",
              "      <td>2020</td>\n",
              "      <td>Dec</td>\n",
              "      <td>16</td>\n",
              "    </tr>\n",
              "    <tr>\n",
              "      <th>4</th>\n",
              "      <td>2020-12-17</td>\n",
              "      <td>5181265.0</td>\n",
              "      <td>44768523.0</td>\n",
              "      <td>2020</td>\n",
              "      <td>Dec</td>\n",
              "      <td>17</td>\n",
              "    </tr>\n",
              "  </tbody>\n",
              "</table>\n",
              "</div>"
            ],
            "text/plain": [
              "        date  people_vaccinated  people_fully_vaccinated  year month  day\n",
              "0 2020-12-13           172930.0               42232946.0  2020   Dec   13\n",
              "1 2020-12-14           343589.0               42291363.0  2020   Dec   14\n",
              "2 2020-12-15          5181265.0               44768523.0  2020   Dec   15\n",
              "3 2020-12-16          5181265.0               44768523.0  2020   Dec   16\n",
              "4 2020-12-17          5181265.0               44768523.0  2020   Dec   17"
            ]
          },
          "metadata": {
            "tags": []
          },
          "execution_count": 25
        }
      ]
    },
    {
      "cell_type": "code",
      "metadata": {
        "colab": {
          "base_uri": "https://localhost:8080/",
          "height": 204
        },
        "id": "v-5k8BTYawT2",
        "outputId": "9afcc1db-c543-4805-d9ab-ed96aacf53cb"
      },
      "source": [
        "# People vaccinated each month - (March not yet completed)\n",
        "world_data[['people_vaccinated', 'people_fully_vaccinated', 'month']].groupby('month', as_index = True).sum().head()"
      ],
      "execution_count": 26,
      "outputs": [
        {
          "output_type": "execute_result",
          "data": {
            "text/html": [
              "<div>\n",
              "<style scoped>\n",
              "    .dataframe tbody tr th:only-of-type {\n",
              "        vertical-align: middle;\n",
              "    }\n",
              "\n",
              "    .dataframe tbody tr th {\n",
              "        vertical-align: top;\n",
              "    }\n",
              "\n",
              "    .dataframe thead th {\n",
              "        text-align: right;\n",
              "    }\n",
              "</style>\n",
              "<table border=\"1\" class=\"dataframe\">\n",
              "  <thead>\n",
              "    <tr style=\"text-align: right;\">\n",
              "      <th></th>\n",
              "      <th>people_vaccinated</th>\n",
              "      <th>people_fully_vaccinated</th>\n",
              "    </tr>\n",
              "    <tr>\n",
              "      <th>month</th>\n",
              "      <th></th>\n",
              "      <th></th>\n",
              "    </tr>\n",
              "  </thead>\n",
              "  <tbody>\n",
              "    <tr>\n",
              "      <th>Dec</th>\n",
              "      <td>2.284845e+08</td>\n",
              "      <td>9.503879e+08</td>\n",
              "    </tr>\n",
              "    <tr>\n",
              "      <th>Feb</th>\n",
              "      <td>3.556723e+09</td>\n",
              "      <td>1.882608e+09</td>\n",
              "    </tr>\n",
              "    <tr>\n",
              "      <th>Jan</th>\n",
              "      <td>2.165191e+09</td>\n",
              "      <td>1.057338e+09</td>\n",
              "    </tr>\n",
              "    <tr>\n",
              "      <th>Mar</th>\n",
              "      <td>2.863801e+09</td>\n",
              "      <td>2.194229e+09</td>\n",
              "    </tr>\n",
              "  </tbody>\n",
              "</table>\n",
              "</div>"
            ],
            "text/plain": [
              "       people_vaccinated  people_fully_vaccinated\n",
              "month                                            \n",
              "Dec         2.284845e+08             9.503879e+08\n",
              "Feb         3.556723e+09             1.882608e+09\n",
              "Jan         2.165191e+09             1.057338e+09\n",
              "Mar         2.863801e+09             2.194229e+09"
            ]
          },
          "metadata": {
            "tags": []
          },
          "execution_count": 26
        }
      ]
    },
    {
      "cell_type": "code",
      "metadata": {
        "colab": {
          "base_uri": "https://localhost:8080/"
        },
        "id": "REWYYKvRasPu",
        "outputId": "2ae4f41c-be99-46c7-ae74-b3d596e07811"
      },
      "source": [
        "# General trend of people_vaccinated\n",
        "world_data[\"people_vaccinated\"].describe()"
      ],
      "execution_count": 27,
      "outputs": [
        {
          "output_type": "execute_result",
          "data": {
            "text/plain": [
              "count    9.200000e+01\n",
              "mean     9.580652e+07\n",
              "std      6.606508e+07\n",
              "min      1.729300e+05\n",
              "25%      3.855895e+07\n",
              "50%      8.927888e+07\n",
              "75%      1.452745e+08\n",
              "max      2.303041e+08\n",
              "Name: people_vaccinated, dtype: float64"
            ]
          },
          "metadata": {
            "tags": []
          },
          "execution_count": 27
        }
      ]
    },
    {
      "cell_type": "code",
      "metadata": {
        "id": "ZjaP2QM5ghOP"
      },
      "source": [
        "# Last few entries\n",
        "world_data.tail(6)\n",
        "\n",
        "# The data of the last 2 days seems incomplete. Hence we shall consider them as outliers and drop them from analysis\n",
        "world_data.drop(world_data.tail(2).index, inplace = True) "
      ],
      "execution_count": 28,
      "outputs": []
    },
    {
      "cell_type": "code",
      "metadata": {
        "colab": {
          "base_uri": "https://localhost:8080/",
          "height": 204
        },
        "id": "0hFVbH6He8Lf",
        "outputId": "2b717d68-7780-42e8-b2ef-7af4adcfa42c"
      },
      "source": [
        "# Percentage of world vaccinated\n",
        "# Current World population ~7900000000 (790 crore/7.9 billion)\n",
        "world_data['people_vaccinated_per_hundred'] = world_data['people_vaccinated']/79000000\n",
        "world_data.tail()"
      ],
      "execution_count": 29,
      "outputs": [
        {
          "output_type": "execute_result",
          "data": {
            "text/html": [
              "<div>\n",
              "<style scoped>\n",
              "    .dataframe tbody tr th:only-of-type {\n",
              "        vertical-align: middle;\n",
              "    }\n",
              "\n",
              "    .dataframe tbody tr th {\n",
              "        vertical-align: top;\n",
              "    }\n",
              "\n",
              "    .dataframe thead th {\n",
              "        text-align: right;\n",
              "    }\n",
              "</style>\n",
              "<table border=\"1\" class=\"dataframe\">\n",
              "  <thead>\n",
              "    <tr style=\"text-align: right;\">\n",
              "      <th></th>\n",
              "      <th>date</th>\n",
              "      <th>people_vaccinated</th>\n",
              "      <th>people_fully_vaccinated</th>\n",
              "      <th>year</th>\n",
              "      <th>month</th>\n",
              "      <th>day</th>\n",
              "      <th>people_vaccinated_per_hundred</th>\n",
              "    </tr>\n",
              "  </thead>\n",
              "  <tbody>\n",
              "    <tr>\n",
              "      <th>85</th>\n",
              "      <td>2021-03-08</td>\n",
              "      <td>213218094.0</td>\n",
              "      <td>167617856.0</td>\n",
              "      <td>2021</td>\n",
              "      <td>Mar</td>\n",
              "      <td>8</td>\n",
              "      <td>2.698963</td>\n",
              "    </tr>\n",
              "    <tr>\n",
              "      <th>86</th>\n",
              "      <td>2021-03-09</td>\n",
              "      <td>217665375.0</td>\n",
              "      <td>172324792.0</td>\n",
              "      <td>2021</td>\n",
              "      <td>Mar</td>\n",
              "      <td>9</td>\n",
              "      <td>2.755258</td>\n",
              "    </tr>\n",
              "    <tr>\n",
              "      <th>87</th>\n",
              "      <td>2021-03-10</td>\n",
              "      <td>224034590.0</td>\n",
              "      <td>172938711.0</td>\n",
              "      <td>2021</td>\n",
              "      <td>Mar</td>\n",
              "      <td>10</td>\n",
              "      <td>2.835881</td>\n",
              "    </tr>\n",
              "    <tr>\n",
              "      <th>88</th>\n",
              "      <td>2021-03-11</td>\n",
              "      <td>228504583.0</td>\n",
              "      <td>169723331.0</td>\n",
              "      <td>2021</td>\n",
              "      <td>Mar</td>\n",
              "      <td>11</td>\n",
              "      <td>2.892463</td>\n",
              "    </tr>\n",
              "    <tr>\n",
              "      <th>89</th>\n",
              "      <td>2021-03-12</td>\n",
              "      <td>230304092.0</td>\n",
              "      <td>170957513.0</td>\n",
              "      <td>2021</td>\n",
              "      <td>Mar</td>\n",
              "      <td>12</td>\n",
              "      <td>2.915242</td>\n",
              "    </tr>\n",
              "  </tbody>\n",
              "</table>\n",
              "</div>"
            ],
            "text/plain": [
              "         date  people_vaccinated  ...  day  people_vaccinated_per_hundred\n",
              "85 2021-03-08        213218094.0  ...    8                       2.698963\n",
              "86 2021-03-09        217665375.0  ...    9                       2.755258\n",
              "87 2021-03-10        224034590.0  ...   10                       2.835881\n",
              "88 2021-03-11        228504583.0  ...   11                       2.892463\n",
              "89 2021-03-12        230304092.0  ...   12                       2.915242\n",
              "\n",
              "[5 rows x 7 columns]"
            ]
          },
          "metadata": {
            "tags": []
          },
          "execution_count": 29
        }
      ]
    },
    {
      "cell_type": "code",
      "metadata": {
        "colab": {
          "base_uri": "https://localhost:8080/"
        },
        "id": "dTxNoyXmvHth",
        "outputId": "9ceff33d-bf4d-479a-9e8c-4aa5c031dd96"
      },
      "source": [
        "world_data[\"people_vaccinated_per_hundred\"].describe()"
      ],
      "execution_count": 30,
      "outputs": [
        {
          "output_type": "execute_result",
          "data": {
            "text/plain": [
              "count    90.000000\n",
              "mean      1.184637\n",
              "std       0.821285\n",
              "min       0.002189\n",
              "25%       0.483201\n",
              "50%       1.109730\n",
              "75%       1.741920\n",
              "max       2.915242\n",
              "Name: people_vaccinated_per_hundred, dtype: float64"
            ]
          },
          "metadata": {
            "tags": []
          },
          "execution_count": 30
        }
      ]
    },
    {
      "cell_type": "code",
      "metadata": {
        "colab": {
          "base_uri": "https://localhost:8080/",
          "height": 386
        },
        "id": "5ZgXmt0NZwP_",
        "outputId": "8989d621-6796-4809-8cdb-e1db5ce8bf89"
      },
      "source": [
        "# Plot people vaccinated against time\n",
        "plt.figure(figsize = (10, 5))\n",
        "ax = sns.lineplot(x = world_data['date'], y = world_data['people_vaccinated'], marker='o')\n",
        "ax.set_xlabel('Date')\n",
        "plt.yticks(ticks = [10000000, 50000000, 100000000, 150000000, 200000000, 250000000], labels = [1, 5, 10, 15, 20, 25])\n",
        "ax.set_ylabel('people vaccinated (crores/10 millions)')\n",
        "plt.xticks(rotation = 90)\n",
        "plt.show()"
      ],
      "execution_count": 31,
      "outputs": [
        {
          "output_type": "display_data",
          "data": {
            "image/png": "[encoded data removed]",
            "text/plain": [
              "<Figure size 720x360 with 1 Axes>"
            ]
          },
          "metadata": {
            "tags": [],
            "needs_background": "light"
          }
        }
      ]
    },
    {
      "cell_type": "markdown",
      "metadata": {
        "id": "qjiIceXMixm0"
      },
      "source": [
        "## Time Series Analysis"
      ]
    },
    {
      "cell_type": "markdown",
      "metadata": {
        "id": "TVorMAHtlz7C"
      },
      "source": [
        "**Stationarity**\n",
        "\n",
        "ACF and PACF plots drawn to check auto correlation and stationarity"
      ]
    },
    {
      "cell_type": "code",
      "metadata": {
        "colab": {
          "base_uri": "https://localhost:8080/",
          "height": 281
        },
        "id": "7ORRd4kEhKtf",
        "outputId": "bc192cc3-9c16-4131-d03f-737aa90afd62"
      },
      "source": [
        "# Test for stationarity\n",
        "plt.figure(figsize = (12,4))\n",
        "plt.subplot(121)\n",
        "plot_acf(world_data['people_vaccinated_per_hundred'], lags = 40, ax = plt.gca())\n",
        "plt.subplot(122)\n",
        "plot_pacf(world_data['people_vaccinated_per_hundred'], lags = 40, ax = plt.gca())\n",
        "plt.show()"
      ],
      "execution_count": 32,
      "outputs": [
        {
          "output_type": "display_data",
          "data": {
            "image/png": "[encoded data removed]",
            "text/plain": [
              "<Figure size 864x288 with 2 Axes>"
            ]
          },
          "metadata": {
            "tags": [],
            "needs_background": "light"
          }
        }
      ]
    },
    {
      "cell_type": "markdown",
      "metadata": {
        "id": "O3pqtDErlwrn"
      },
      "source": [
        "Data looks non-stationary. We shall perform Dicky-Fuler test to verify."
      ]
    },
    {
      "cell_type": "code",
      "metadata": {
        "colab": {
          "base_uri": "https://localhost:8080/"
        },
        "id": "FyOVv_otnAxN",
        "outputId": "d0899240-d410-4883-b572-895d319fdb0c"
      },
      "source": [
        "adfuller(world_data['people_vaccinated_per_hundred'])"
      ],
      "execution_count": 33,
      "outputs": [
        {
          "output_type": "execute_result",
          "data": {
            "text/plain": [
              "(1.0984291374369506,\n",
              " 0.9952031935733688,\n",
              " 0,\n",
              " 89,\n",
              " {'1%': -3.506057133647011,\n",
              "  '10%': -2.5844100201994697,\n",
              "  '5%': -2.8946066061911946},\n",
              " -177.08943910374603)"
            ]
          },
          "metadata": {
            "tags": []
          },
          "execution_count": 33
        }
      ]
    },
    {
      "cell_type": "markdown",
      "metadata": {
        "id": "18mfcCzMnxu6"
      },
      "source": [
        "p-value is 0.99. Data is non-stationary.\n",
        "\n",
        "Hence we shall consider first difference "
      ]
    },
    {
      "cell_type": "code",
      "metadata": {
        "id": "s60EmwFFn99x"
      },
      "source": [
        "world_data['diff1'] = world_data['people_vaccinated_per_hundred'].diff(1)\n",
        "world_data['diff1'] = world_data['diff1'].fillna(world_data['diff1'].mean())"
      ],
      "execution_count": 36,
      "outputs": []
    },
    {
      "cell_type": "code",
      "metadata": {
        "colab": {
          "base_uri": "https://localhost:8080/"
        },
        "id": "jXQt_q9lFf9r",
        "outputId": "768e23da-dfc4-4e20-f671-87ab653a3919"
      },
      "source": [
        "adfuller(world_data.diff1)"
      ],
      "execution_count": 37,
      "outputs": [
        {
          "output_type": "execute_result",
          "data": {
            "text/plain": [
              "(-9.22811773849943,\n",
              " 1.7071819941937296e-15,\n",
              " 0,\n",
              " 89,\n",
              " {'1%': -3.506057133647011,\n",
              "  '10%': -2.5844100201994697,\n",
              "  '5%': -2.8946066061911946},\n",
              " -176.83631788612212)"
            ]
          },
          "metadata": {
            "tags": []
          },
          "execution_count": 37
        }
      ]
    },
    {
      "cell_type": "markdown",
      "metadata": {
        "id": "O7SPLUczftE6"
      },
      "source": [
        "Data is now stationary. Lets check the ACF and PACF graphs."
      ]
    },
    {
      "cell_type": "code",
      "metadata": {
        "colab": {
          "base_uri": "https://localhost:8080/",
          "height": 281
        },
        "id": "na920RldqPOO",
        "outputId": "101c073d-b786-4e1b-dd98-e67d4b220973"
      },
      "source": [
        "# Test for stationarity\n",
        "plt.figure(figsize = (12,4))\n",
        "plt.subplot(121)\n",
        "plot_acf(world_data['diff1'], ax = plt.gca())\n",
        "plt.subplot(122)\n",
        "plot_pacf(world_data['diff1'], ax = plt.gca())\n",
        "plt.show()"
      ],
      "execution_count": 35,
      "outputs": [
        {
          "output_type": "display_data",
          "data": {
            "image/png": "[encoded data removed]",
            "text/plain": [
              "<Figure size 864x288 with 2 Axes>"
            ]
          },
          "metadata": {
            "tags": [],
            "needs_background": "light"
          }
        }
      ]
    },
    {
      "cell_type": "markdown",
      "metadata": {
        "id": "9uniMEKdfzD_"
      },
      "source": [
        "p and q values are indicated to be 16, which could be a result of noise, and is unreliable. "
      ]
    },
    {
      "cell_type": "markdown",
      "metadata": {
        "id": "m9fJk_6Ff7Np"
      },
      "source": [
        "## Inference"
      ]
    },
    {
      "cell_type": "markdown",
      "metadata": {
        "id": "7XyiHBQAf9t4"
      },
      "source": [
        "* India, while having the second largest population of people vaccinated, lags behind other countries when we consider our population.\n",
        "\n",
        "* We have 59 data points available for India. India vaccinated is 1.75%. Even if we consider the lower limit of herd immunity to be 50%, we still have a long way to go. \n",
        "\n",
        "* Data collected until now is insufficient. Especially with time series, it is considered wrong to predict into such far futures. \n",
        "\n",
        "* This is further verified when the data became stationary after 3rd differencing, at which point, it is considered unreliable. \n",
        "\n",
        "* The story goes on similar lines for world immunity.  \n",
        "We might be able to predict a few days into the future with a few more data points, but predicting immunity at 50% might not lead a reliable result as of now.\n"
      ]
    },
    {
      "cell_type": "markdown",
      "metadata": {
        "id": "8S42wcRRgxb_"
      },
      "source": [
        "**Future Scope of Action**\n",
        "\n",
        "* Train the model on countries that have higher vaccination rates (per hundred) and test it against countries having similar distribution of data. \n",
        "\n",
        "* Consider the sentiments of the public and the government towards  social distancing measures and vaccinations (with time). Dwell into the relationship between the two.\n",
        "\n",
        "* Make use of all the variables under different objectives like Vaccination brand study and probability of a second vaccination shot.\n",
        "\n",
        "* Collect more data for better trained models. Automate the model with a UI to display the ever-changing yet updated timelines.\n"
      ]
    }
  ]
}